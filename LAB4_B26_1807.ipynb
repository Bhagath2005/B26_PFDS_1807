{
  "nbformat": 4,
  "nbformat_minor": 0,
  "metadata": {
    "colab": {
      "provenance": [],
      "authorship_tag": "ABX9TyPdTBcvipNiHGNNoo+twAd3",
      "include_colab_link": true
    },
    "kernelspec": {
      "name": "python3",
      "display_name": "Python 3"
    },
    "language_info": {
      "name": "python"
    }
  },
  "cells": [
    {
      "cell_type": "markdown",
      "metadata": {
        "id": "view-in-github",
        "colab_type": "text"
      },
      "source": [
        "<a href=\"https://colab.research.google.com/github/Bhagath2005/B26_PFDS_1807/blob/main/LAB4_B26_1807.ipynb\" target=\"_parent\"><img src=\"https://colab.research.google.com/assets/colab-badge.svg\" alt=\"Open In Colab\"/></a>"
      ]
    },
    {
      "cell_type": "code",
      "source": [
        "import os\n",
        "import pandas as pd\n",
        "\n",
        "file_path = 'course_feedback.csv'\n",
        "\n",
        "if not os.path.exists(file_path):\n",
        "    data = {\n",
        "        \"User_ID\": [\"user101\", \"user102\", \"user103\", \"user104\", \"user105\"],\n",
        "        \"Course_Name\": [\n",
        "            \"Python for Data Science\",\n",
        "            \"Python for Data Science\",\n",
        "            \"Machine Learning Basics\",\n",
        "            \"Python for Data Science\",\n",
        "            \"Data Visualization\"\n",
        "        ],\n",
        "        \"Rating\": [5, 4, 3, 5, None],\n",
        "        \"Feedback\": [\n",
        "            \"Excellent course with clear concepts\",\n",
        "            \"Very practical and well structured\",\n",
        "            \"Too basic for my level\",\n",
        "            \"Loved the real-world examples\",\n",
        "            \"Missing some advanced topics\"\n",
        "        ],\n",
        "        \"Date\": [\n",
        "            \"2025-08-10\",\n",
        "            \"2025-08-11\",\n",
        "            \"2025-08-15\",\n",
        "            \"2025-08-18\",\n",
        "            \"2025-08-20\"\n",
        "        ]\n",
        "    }\n",
        "    df = pd.DataFrame(data)\n",
        "    df.to_csv(file_path, index=False)\n",
        "    print(\"✅ File created successfully: course_feedback.csv\")\n",
        "else:\n",
        "    print(\"✅ File already exists.\")\n",
        "\n",
        "df = pd.read_csv(file_path)\n",
        "print(\"\\nOriginal Data:\")\n",
        "print(df)\n",
        "\n",
        "df = df.dropna(subset=['Rating'])\n",
        "\n",
        "filtered_feedback = df[\n",
        "    (df['Course_Name'] == 'Python for Data Science') &\n",
        "    (df['Rating'] >= 4)\n",
        "]\n",
        "\n",
        "print(\"\\nFiltered Feedback (Python for Data Science, Rating >= 4):\")\n",
        "for index, row in filtered_feedback.iterrows():\n",
        "    print(f\"User: {row['User_ID']} | Feedback: {row['Feedback']}\")\n"
      ],
      "metadata": {
        "colab": {
          "base_uri": "https://localhost:8080/"
        },
        "id": "pqjNmhUrbGTh",
        "outputId": "d788dcb2-4957-458e-e2f6-709238a35905"
      },
      "execution_count": 13,
      "outputs": [
        {
          "output_type": "stream",
          "name": "stdout",
          "text": [
            "✅ File already exists.\n",
            "\n",
            "Original Data:\n",
            "   User_ID              Course_Name  Rating  \\\n",
            "0  user101  Python for Data Science     5.0   \n",
            "1  user102  Python for Data Science     4.0   \n",
            "2  user103  Machine Learning Basics     3.0   \n",
            "3  user104  Python for Data Science     5.0   \n",
            "4  user105       Data Visualization     NaN   \n",
            "\n",
            "                               Feedback        Date  \n",
            "0  Excellent course with clear concepts  2025-08-10  \n",
            "1    Very practical and well structured  2025-08-11  \n",
            "2                Too basic for my level  2025-08-15  \n",
            "3         Loved the real-world examples  2025-08-18  \n",
            "4          Missing some advanced topics  2025-08-20  \n",
            "\n",
            "Filtered Feedback (Python for Data Science, Rating >= 4):\n",
            "User: user101 | Feedback: Excellent course with clear concepts\n",
            "User: user102 | Feedback: Very practical and well structured\n",
            "User: user104 | Feedback: Loved the real-world examples\n"
          ]
        }
      ]
    },
    {
      "cell_type": "code",
      "source": [
        "import os\n",
        "import pandas as pd\n",
        "\n",
        "file_path = 'air_quality.csv'\n",
        "\n",
        "if not os.path.exists(file_path):\n",
        "    data = {\n",
        "        \"Location\": [\"Delhi\", \"Mumbai\", \"Kolkata\", \"Chennai\", \"Bangalore\", \"Delhi\"],\n",
        "        \"PM2.5\": [180, 95, None, 160, 80, 200],\n",
        "        \"PM10\": [250, 180, 150, None, 100, 300],\n",
        "        \"NO2\": [85, 60, 78, 90, None, 110],\n",
        "        \"SO2\": [30, 20, 15, 18, 10, 35],\n",
        "        \"Date\": [\"2025-08-20\", \"2025-08-21\", \"2025-08-22\", \"2025-08-23\", \"2025-08-24\", \"2025-08-25\"]\n",
        "    }\n",
        "    df = pd.DataFrame(data)\n",
        "    df.to_csv(file_path, index=False)\n",
        "    print(\"air_quality.csv created.\")\n",
        "else:\n",
        "    print(\"File already exists.\")\n",
        "\n",
        "df = pd.read_csv(file_path)\n",
        "print(\"\\nOriginal Data:\")\n",
        "print(df)\n",
        "\n",
        "df.fillna(method='ffill', inplace=True)\n",
        "polluted_days = df[(df['PM2.5'] > 150) & (df['NO2'] > 80)]\n",
        "\n",
        "print(\"\\nPolluted Days (PM2.5 > 150 and NO2 > 80):\")\n",
        "print(polluted_days)\n"
      ],
      "metadata": {
        "colab": {
          "base_uri": "https://localhost:8080/"
        },
        "id": "c4LSpkkfbuOQ",
        "outputId": "29c04fc2-4046-49ec-bb04-50c7f0d6a08c"
      },
      "execution_count": 14,
      "outputs": [
        {
          "output_type": "stream",
          "name": "stdout",
          "text": [
            "File already exists.\n",
            "\n",
            "Original Data:\n",
            "    Location  PM2.5   PM10    NO2  SO2        Date\n",
            "0      Delhi  180.0  250.0   85.0   30  2025-08-20\n",
            "1     Mumbai   95.0  180.0   60.0   20  2025-08-21\n",
            "2    Kolkata    NaN  150.0   78.0   15  2025-08-22\n",
            "3    Chennai  160.0    NaN   90.0   18  2025-08-23\n",
            "4  Bangalore   80.0  100.0    NaN   10  2025-08-24\n",
            "5      Delhi  200.0  300.0  110.0   35  2025-08-25\n",
            "\n",
            "Polluted Days (PM2.5 > 150 and NO2 > 80):\n",
            "  Location  PM2.5   PM10    NO2  SO2        Date\n",
            "0    Delhi  180.0  250.0   85.0   30  2025-08-20\n",
            "3  Chennai  160.0  150.0   90.0   18  2025-08-23\n",
            "5    Delhi  200.0  300.0  110.0   35  2025-08-25\n"
          ]
        },
        {
          "output_type": "stream",
          "name": "stderr",
          "text": [
            "/tmp/ipython-input-1331685015.py:25: FutureWarning: DataFrame.fillna with 'method' is deprecated and will raise in a future version. Use obj.ffill() or obj.bfill() instead.\n",
            "  df.fillna(method='ffill', inplace=True)\n"
          ]
        }
      ]
    }
  ]
}