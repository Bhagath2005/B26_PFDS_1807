{
  "nbformat": 4,
  "nbformat_minor": 0,
  "metadata": {
    "colab": {
      "provenance": [],
      "authorship_tag": "ABX9TyO/2rCrDFraMlTzLrR6qmcZ",
      "include_colab_link": true
    },
    "kernelspec": {
      "name": "python3",
      "display_name": "Python 3"
    },
    "language_info": {
      "name": "python"
    }
  },
  "cells": [
    {
      "cell_type": "markdown",
      "metadata": {
        "id": "view-in-github",
        "colab_type": "text"
      },
      "source": [
        "<a href=\"https://colab.research.google.com/github/Bhagath2005/B26_PFDS_1807/blob/main/LAB2_B26_1807.ipynb\" target=\"_parent\"><img src=\"https://colab.research.google.com/assets/colab-badge.svg\" alt=\"Open In Colab\"/></a>"
      ]
    },
    {
      "cell_type": "code",
      "execution_count": 1,
      "metadata": {
        "colab": {
          "base_uri": "https://localhost:8080/"
        },
        "id": "DrXQOVgtlRUk",
        "outputId": "782145d2-58f4-4409-b973-711a61c8372f"
      },
      "outputs": [
        {
          "output_type": "stream",
          "name": "stdout",
          "text": [
            "\n",
            "Initial DataFrame:\n",
            "   Order_ID     Product  Quantity  Price\n",
            "0       101      Laptop         1  80000\n",
            "1       102      Mobile         2  15000\n",
            "2       103      Tablet         3  12000\n",
            "3       104      Laptop         1  85000\n",
            "4       105  Headphones         5   2000\n",
            "5       106      Mobile         4  14000\n",
            "\n",
            "DataFrame with Total Sale:\n",
            "   Order_ID     Product  Quantity  Price  Total_Sale\n",
            "0       101      Laptop         1  80000       80000\n",
            "1       102      Mobile         2  15000       30000\n",
            "2       103      Tablet         3  12000       36000\n",
            "3       104      Laptop         1  85000       85000\n",
            "4       105  Headphones         5   2000       10000\n",
            "5       106      Mobile         4  14000       56000\n",
            "\n",
            "Orders with Total Sale > 1000:\n",
            "   Order_ID     Product  Quantity  Price  Total_Sale\n",
            "0       101      Laptop         1  80000       80000\n",
            "1       102      Mobile         2  15000       30000\n",
            "2       103      Tablet         3  12000       36000\n",
            "3       104      Laptop         1  85000       85000\n",
            "4       105  Headphones         5   2000       10000\n",
            "5       106      Mobile         4  14000       56000\n",
            "\n",
            "Most Sold Products:\n",
            "Product\n",
            "Mobile        6\n",
            "Headphones    5\n",
            "Tablet        3\n",
            "Laptop        2\n",
            "Name: Quantity, dtype: int64\n",
            "\n",
            "DataFrame with Discount:\n",
            "   Order_ID     Product  Quantity  Price  Total_Sale  Discount\n",
            "0       101      Laptop         1  80000       80000    8000.0\n",
            "1       102      Mobile         2  15000       30000    1500.0\n",
            "2       103      Tablet         3  12000       36000    1800.0\n",
            "3       104      Laptop         1  85000       85000    8500.0\n",
            "4       105  Headphones         5   2000       10000     200.0\n",
            "5       106      Mobile         4  14000       56000    5600.0\n",
            "\n",
            "Summary exported to sales_summary.xlsx\n"
          ]
        }
      ],
      "source": [
        "import pandas as pd\n",
        "\n",
        "data = {\n",
        "    'Order_ID': [101, 102, 103, 104, 105, 106],\n",
        "    'Product': ['Laptop', 'Mobile', 'Tablet', 'Laptop', 'Headphones', 'Mobile'],\n",
        "    'Quantity': [1, 2, 3, 1, 5, 4],\n",
        "    'Price': [80000, 15000, 12000, 85000, 2000, 14000]\n",
        "}\n",
        "\n",
        "df = pd.DataFrame(data)\n",
        "print(\"\\nInitial DataFrame:\")\n",
        "print(df)\n",
        "\n",
        "df['Total_Sale'] = df['Quantity'] * df['Price']\n",
        "print(\"\\nDataFrame with Total Sale:\")\n",
        "print(df)\n",
        "\n",
        "high_value_orders = df[df['Total_Sale'] > 1000]\n",
        "print(\"\\nOrders with Total Sale > 1000:\")\n",
        "print(high_value_orders)\n",
        "\n",
        "most_sold = df.groupby('Product')['Quantity'].sum().sort_values(ascending=False)\n",
        "print(\"\\nMost Sold Products:\")\n",
        "print(most_sold)\n",
        "\n",
        "def discount(amount):\n",
        "    if amount > 50000:\n",
        "        return amount * 0.10\n",
        "    elif amount > 20000:\n",
        "        return amount * 0.05\n",
        "    else:\n",
        "        return amount * 0.02\n",
        "\n",
        "df['Discount'] = df['Total_Sale'].apply(discount)\n",
        "print(\"\\nDataFrame with Discount:\")\n",
        "print(df)\n",
        "\n",
        "summary_file = \"sales_summary.xlsx\"\n",
        "df.to_excel(summary_file, index=False)\n",
        "print(f\"\\nSummary exported to {summary_file}\")\n"
      ]
    },
    {
      "cell_type": "code",
      "source": [
        "import pandas as pd\n",
        "import matplotlib.pyplot as plt\n",
        "\n",
        "budget = pd.DataFrame({'Department': ['HR','Finance','IT','Marketing','Operations'],\n",
        "                        'Budget':[50000,75000,120000,60000,90000]})\n",
        "actual = pd.DataFrame({'Department': ['HR','Finance','IT','Marketing','Operations'],\n",
        "                        'Actual':[52000,70000,130000,65000,88000]})\n",
        "\n",
        "df = budget.merge(actual, on='Department')\n",
        "df['Variance'] = df['Actual'] - df['Budget']\n",
        "\n",
        "exceed = df[df['Variance'] > 0]\n",
        "df = df.sort_values('Variance', ascending=False)\n",
        "\n",
        "print(\"\\nMerged Data:\\n\", df)\n",
        "print(\"\\nExceeding Budget:\\n\", exceed)\n",
        "\n",
        "df.plot(x='Department', y=['Budget','Actual'], kind='bar', figsize=(8,5), title='Budget vs Actual')\n",
        "plt.tight_layout(); plt.show()\n"
      ],
      "metadata": {
        "colab": {
          "base_uri": "https://localhost:8080/",
          "height": 750
        },
        "id": "eRSrUAb1lsFS",
        "outputId": "a4071e07-4513-456a-eeb1-dbfbfe786b81"
      },
      "execution_count": 3,
      "outputs": [
        {
          "output_type": "stream",
          "name": "stdout",
          "text": [
            "\n",
            "Merged Data:\n",
            "    Department  Budget  Actual  Variance\n",
            "2          IT  120000  130000     10000\n",
            "3   Marketing   60000   65000      5000\n",
            "0          HR   50000   52000      2000\n",
            "4  Operations   90000   88000     -2000\n",
            "1     Finance   75000   70000     -5000\n",
            "\n",
            "Exceeding Budget:\n",
            "   Department  Budget  Actual  Variance\n",
            "0         HR   50000   52000      2000\n",
            "2         IT  120000  130000     10000\n",
            "3  Marketing   60000   65000      5000\n"
          ]
        },
        {
          "output_type": "display_data",
          "data": {
            "text/plain": [
              "<Figure size 800x500 with 1 Axes>"
            ],
            "image/png": "[encoded data removed]"
          },
          "metadata": {}
        }
      ]
    }
  ]
}