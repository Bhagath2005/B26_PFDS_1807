{
  "nbformat": 4,
  "nbformat_minor": 0,
  "metadata": {
    "colab": {
      "provenance": [],
      "authorship_tag": "ABX9TyNGNtAHZuNb4gF4K6XVw++D",
      "include_colab_link": true
    },
    "kernelspec": {
      "name": "python3",
      "display_name": "Python 3"
    },
    "language_info": {
      "name": "python"
    }
  },
  "cells": [
    {
      "cell_type": "markdown",
      "metadata": {
        "id": "view-in-github",
        "colab_type": "text"
      },
      "source": [
        "<a href=\"https://colab.research.google.com/github/Bhagath2005/B26_PFDS_1807/blob/main/LAB3_B26_1807.ipynb\" target=\"_parent\"><img src=\"https://colab.research.google.com/assets/colab-badge.svg\" alt=\"Open In Colab\"/></a>"
      ]
    },
    {
      "cell_type": "code",
      "execution_count": 1,
      "metadata": {
        "colab": {
          "base_uri": "https://localhost:8080/"
        },
        "id": "L0eXPxq1rRDi",
        "outputId": "ca0b7a42-400c-4293-88f0-539dd5f6fc4c"
      },
      "outputs": [
        {
          "output_type": "stream",
          "name": "stdout",
          "text": [
            "2D + 1D Broadcasting:\n",
            " [[11 22 33]\n",
            " [14 25 36]]\n",
            "Shapes -> A: (2, 3) B: (3,)\n",
            "\n",
            "Invalid Broadcasting Error:\n",
            " operands could not be broadcast together with shapes (2,3) (2,) \n",
            "\n",
            "3D + Scalar Broadcasting:\n",
            " [[[6. 6. 6. 6.]\n",
            "  [6. 6. 6. 6.]\n",
            "  [6. 6. 6. 6.]]\n",
            "\n",
            " [[6. 6. 6. 6.]\n",
            "  [6. 6. 6. 6.]\n",
            "  [6. 6. 6. 6.]]]\n",
            "Shapes -> X: (2, 3, 4)\n",
            "\n",
            "Original D shape: (3,)\n",
            "Expanded D shape: (3, 1)\n",
            "\n",
            "Broadcasting Example (newaxis):\n",
            " [[11 21 31]\n",
            " [12 22 32]\n",
            " [13 23 33]]\n",
            "Shapes -> D_expanded: (3, 1) E: (1, 3)\n"
          ]
        }
      ],
      "source": [
        "import numpy as np\n",
        "\n",
        "A = np.array([[1, 2, 3],\n",
        "              [4, 5, 6]])\n",
        "B = np.array([10, 20, 30])\n",
        "\n",
        "print(\"2D + 1D Broadcasting:\\n\", A + B)\n",
        "print(\"Shapes -> A:\", A.shape, \"B:\", B.shape)\n",
        "\n",
        "try:\n",
        "    C = np.array([10, 20])  # shape (2,)\n",
        "    print(A + C)            # Will raise error\n",
        "except ValueError as e:\n",
        "    print(\"\\nInvalid Broadcasting Error:\\n\", e)\n",
        "\n",
        "X = np.ones((2, 3, 4))\n",
        "print(\"\\n3D + Scalar Broadcasting:\\n\", X + 5)\n",
        "print(\"Shapes -> X:\", X.shape)\n",
        "\n",
        "D = np.array([1, 2, 3])\n",
        "print(\"\\nOriginal D shape:\", D.shape)\n",
        "D_expanded = D[:, np.newaxis]   # shape (3,1)\n",
        "print(\"Expanded D shape:\", D_expanded.shape)\n",
        "\n",
        "E = np.array([[10, 20, 30]])\n",
        "print(\"\\nBroadcasting Example (newaxis):\\n\", D_expanded + E)\n",
        "print(\"Shapes -> D_expanded:\", D_expanded.shape, \"E:\", E.shape)\n"
      ]
    },
    {
      "cell_type": "code",
      "source": [
        "import numpy as np\n",
        "\n",
        "arr = np.array([[4, -5, 16],\n",
        "                [9, 25, -36]])\n",
        "print(\"Original Array:\\n\", arr)\n",
        "\n",
        "squared = arr ** 2\n",
        "print(\"\\nSquared Elements:\\n\", squared)\n",
        "\n",
        "sqrted = np.sqrt(np.abs(arr))\n",
        "print(\"\\nSquare Root of Absolute Values:\\n\", sqrted)\n",
        "\n",
        "non_negative = np.where(arr < 0, 0, arr)\n",
        "print(\"\\nNegative Replaced with Zero:\\n\", non_negative)\n",
        "\n",
        "count_gt_10 = np.sum(non_negative > 10)\n",
        "print(\"\\nCount of Elements > 10:\", count_gt_10)\n",
        "\n",
        "mask = arr > 10\n",
        "print(\"\\nCondition Mask (arr > 10):\\n\", mask)\n",
        "\n",
        "print(\"\\nSummary:\")\n",
        "print(f\"Original Shape: {arr.shape}\")\n",
        "print(f\"Squared Shape: {squared.shape}\")\n",
        "print(f\"Square Root Shape: {sqrted.shape}\")\n",
        "print(f\"Mask Shape: {mask.shape}\")\n"
      ],
      "metadata": {
        "colab": {
          "base_uri": "https://localhost:8080/"
        },
        "id": "A3cF3cY5sm8F",
        "outputId": "41a15dc4-f447-4340-fe05-ec03d55df90e"
      },
      "execution_count": 2,
      "outputs": [
        {
          "output_type": "stream",
          "name": "stdout",
          "text": [
            "Original Array:\n",
            " [[  4  -5  16]\n",
            " [  9  25 -36]]\n",
            "\n",
            "Squared Elements:\n",
            " [[  16   25  256]\n",
            " [  81  625 1296]]\n",
            "\n",
            "Square Root of Absolute Values:\n",
            " [[2.         2.23606798 4.        ]\n",
            " [3.         5.         6.        ]]\n",
            "\n",
            "Negative Replaced with Zero:\n",
            " [[ 4  0 16]\n",
            " [ 9 25  0]]\n",
            "\n",
            "Count of Elements > 10: 2\n",
            "\n",
            "Condition Mask (arr > 10):\n",
            " [[False False  True]\n",
            " [False  True False]]\n",
            "\n",
            "Summary:\n",
            "Original Shape: (2, 3)\n",
            "Squared Shape: (2, 3)\n",
            "Square Root Shape: (2, 3)\n",
            "Mask Shape: (2, 3)\n"
          ]
        }
      ]
    }
  ]
}