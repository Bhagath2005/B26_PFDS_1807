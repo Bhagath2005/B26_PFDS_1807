{
  "nbformat": 4,
  "nbformat_minor": 0,
  "metadata": {
    "colab": {
      "provenance": [],
      "authorship_tag": "ABX9TyMJDZnAPEJPtQQOYnpd7wKS",
      "include_colab_link": true
    },
    "kernelspec": {
      "name": "python3",
      "display_name": "Python 3"
    },
    "language_info": {
      "name": "python"
    }
  },
  "cells": [
    {
      "cell_type": "markdown",
      "metadata": {
        "id": "view-in-github",
        "colab_type": "text"
      },
      "source": [
        "<a href=\"https://colab.research.google.com/github/Bhagath2005/B26_PFDS_1807/blob/main/1807_PfD_29_8_25.ipynb\" target=\"_parent\"><img src=\"https://colab.research.google.com/assets/colab-badge.svg\" alt=\"Open In Colab\"/></a>"
      ]
    },
    {
      "cell_type": "code",
      "execution_count": 1,
      "metadata": {
        "colab": {
          "base_uri": "https://localhost:8080/"
        },
        "id": "wpiNBUvi8DER",
        "outputId": "a82df537-e6e5-4dda-c9f6-3febad753ec3"
      },
      "outputs": [
        {
          "output_type": "stream",
          "name": "stdout",
          "text": [
            "Pandas Series:\n",
            "0    10\n",
            "1    20\n",
            "2    30\n",
            "3    40\n",
            "4    50\n",
            "dtype: int64\n"
          ]
        }
      ],
      "source": [
        "import pandas as pd\n",
        "#Creating a series from a list\n",
        "data=[10,20,30,40,50]\n",
        "series=pd.Series(data)\n",
        "\n",
        "print(\"Pandas Series:\")\n",
        "print(series)"
      ]
    },
    {
      "cell_type": "code",
      "source": [
        "#Series with Custom index\n",
        "import pandas as pd\n",
        "data=[10,20,30,40,50]\n",
        "index_labels=['a','b','c','d','e']\n",
        "series=pd.Series(data,index_labels)\n",
        "\n",
        "print(series)"
      ],
      "metadata": {
        "colab": {
          "base_uri": "https://localhost:8080/"
        },
        "id": "eAY9KfIq82VF",
        "outputId": "45f2ce0b-39a4-4d3a-80c6-386c6fca0cf8"
      },
      "execution_count": 5,
      "outputs": [
        {
          "output_type": "stream",
          "name": "stdout",
          "text": [
            "a    10\n",
            "b    20\n",
            "c    30\n",
            "d    40\n",
            "e    50\n",
            "dtype: int64\n"
          ]
        }
      ]
    },
    {
      "cell_type": "code",
      "source": [
        "#Creating a DataFrame from a dictionary\n",
        "data = {\n",
        "    'Name':['Alice','Bob','Charlie','John'],\n",
        "    'Age':[20,30,35,40],\n",
        "    'City':['Hyderabad','Hanamkonda','Delhi','Pune']\n",
        "}\n",
        "#Creating a DataFrame\n",
        "df = pd.DataFrame(data)\n",
        "\n",
        "print(\"Pandas DataFrame;\")\n",
        "print(df)\n"
      ],
      "metadata": {
        "colab": {
          "base_uri": "https://localhost:8080/"
        },
        "id": "FcwH8w0_92dF",
        "outputId": "6ba4d379-7e55-48f8-a1d7-1d8b6b81c666"
      },
      "execution_count": 6,
      "outputs": [
        {
          "output_type": "stream",
          "name": "stdout",
          "text": [
            "Pandas DataFrame;\n",
            "      Name  Age        City\n",
            "0    Alice   20   Hyderabad\n",
            "1      Bob   30  Hanamkonda\n",
            "2  Charlie   35       Delhi\n",
            "3     John   40        Pune\n"
          ]
        }
      ]
    },
    {
      "cell_type": "code",
      "source": [
        "#Access multiple coloumns\n",
        "print(df['Name'])\n",
        "#access multiple coloumns\n",
        "print(df[['Name','City']])\n",
        "#access rows using index\n",
        "print(df.iloc[1])#row at index 1\n",
        "print(df.loc[2])#row at label 2\n",
        "#Accessing a New cloumn\n",
        "df['Salary'] = [40000,50000,60000,70000]\n",
        "print(df)\n",
        "#Removing a column\n",
        "df = df.drop('City', axis=1)\n",
        "print(df)\n"
      ],
      "metadata": {
        "colab": {
          "base_uri": "https://localhost:8080/"
        },
        "id": "9_E9ypC4_Tgk",
        "outputId": "9f6ccf55-6ebf-425b-dfb1-a73d2221960d"
      },
      "execution_count": 7,
      "outputs": [
        {
          "output_type": "stream",
          "name": "stdout",
          "text": [
            "0      Alice\n",
            "1        Bob\n",
            "2    Charlie\n",
            "3       John\n",
            "Name: Name, dtype: object\n",
            "      Name        City\n",
            "0    Alice   Hyderabad\n",
            "1      Bob  Hanamkonda\n",
            "2  Charlie       Delhi\n",
            "3     John        Pune\n",
            "Name           Bob\n",
            "Age             30\n",
            "City    Hanamkonda\n",
            "Name: 1, dtype: object\n",
            "Name    Charlie\n",
            "Age          35\n",
            "City      Delhi\n",
            "Name: 2, dtype: object\n",
            "      Name  Age        City  Salary\n",
            "0    Alice   20   Hyderabad   40000\n",
            "1      Bob   30  Hanamkonda   50000\n",
            "2  Charlie   35       Delhi   60000\n",
            "3     John   40        Pune   70000\n",
            "      Name  Age  Salary\n",
            "0    Alice   20   40000\n",
            "1      Bob   30   50000\n",
            "2  Charlie   35   60000\n",
            "3     John   40   70000\n"
          ]
        }
      ]
    },
    {
      "cell_type": "code",
      "source": [
        "from collections.abc import AsyncGenerator\n",
        "#(d)Filtering data\n",
        "#Select rows where Age > 30\n",
        "print(df[df['Age']>30])\n",
        "\n",
        "#(e)Basic Statistics\n",
        "print(df['Age'].mean())  #Average age\n",
        "print(df['Age'].max())   #Maximum age\n",
        "print(df['Age'].min())   #Minimum age"
      ],
      "metadata": {
        "colab": {
          "base_uri": "https://localhost:8080/"
        },
        "id": "OTuJFZ3cAy1M",
        "outputId": "a8691534-7583-43d8-ffe3-c6b3063e9912"
      },
      "execution_count": 9,
      "outputs": [
        {
          "output_type": "stream",
          "name": "stdout",
          "text": [
            "      Name  Age  Salary\n",
            "2  Charlie   35   60000\n",
            "3     John   40   70000\n",
            "31.25\n",
            "40\n",
            "20\n"
          ]
        }
      ]
    },
    {
      "cell_type": "code",
      "source": [
        "import pandas as pd\n",
        "\n",
        "# Create a DataFrame with student details\n",
        "student_data = {\n",
        "    'Student_ID': [101, 102, 103, 104],\n",
        "    'Name': ['Ravi', 'Sita', 'Ram', 'Sneha'],\n",
        "    'Marks': [85, 95, 76, 98],\n",
        "    'Department': ['ECE', 'CSE', 'MECH', 'CSE']\n",
        "}\n",
        "\n",
        "df = pd.DataFrame(student_data)\n",
        "\n",
        "# Display full DataFrame\n",
        "print(\"Student Data:\")\n",
        "print(df)\n"
      ],
      "metadata": {
        "colab": {
          "base_uri": "https://localhost:8080/"
        },
        "id": "7-llVYTxCmK7",
        "outputId": "3e41918a-c585-4508-effc-b341be89ef46"
      },
      "execution_count": 12,
      "outputs": [
        {
          "output_type": "stream",
          "name": "stdout",
          "text": [
            "Student Data:\n",
            "   Student_ID   Name  Marks Department\n",
            "0         101   Ravi     85        ECE\n",
            "1         102   Sita     95        CSE\n",
            "2         103    Ram     76       MECH\n",
            "3         104  Sneha     98        CSE\n"
          ]
        }
      ]
    }
  ]
}