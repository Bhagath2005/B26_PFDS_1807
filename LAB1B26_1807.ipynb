{
  "nbformat": 4,
  "nbformat_minor": 0,
  "metadata": {
    "colab": {
      "provenance": [],
      "authorship_tag": "ABX9TyNLp0D3lTiUXXRSywwV4+4p",
      "include_colab_link": true
    },
    "kernelspec": {
      "name": "python3",
      "display_name": "Python 3"
    },
    "language_info": {
      "name": "python"
    }
  },
  "cells": [
    {
      "cell_type": "markdown",
      "metadata": {
        "id": "view-in-github",
        "colab_type": "text"
      },
      "source": [
        "<a href=\"https://colab.research.google.com/github/Bhagath2005/B26_PFDS_1807/blob/main/LAB1B26_1807.ipynb\" target=\"_parent\"><img src=\"https://colab.research.google.com/assets/colab-badge.svg\" alt=\"Open In Colab\"/></a>"
      ]
    },
    {
      "cell_type": "code",
      "execution_count": 1,
      "metadata": {
        "colab": {
          "base_uri": "https://localhost:8080/"
        },
        "id": "hL_JJv9jVp9h",
        "outputId": "0adc9fe9-3ea0-4535-a315-c0108191fa7d"
      },
      "outputs": [
        {
          "output_type": "stream",
          "name": "stdout",
          "text": [
            "Permutation Calculator (nPr)\n",
            "Enter total number of people/items (n): 5\n",
            "Enter number of places (r): 5\n",
            "\n",
            "Calculating 5P5:\n",
            "Formula: nPr = n! / (n - r)!\n",
            "Step 1: n = 5, r = 5\n",
            "Step 2: Compute n! = 5! = 120\n",
            "Step 3: Compute (n - r)! = (5 - 5)! = 0! = 1\n",
            "Step 4: nPr = 120 / 1 = 120\n",
            "\n",
            "Result: 5P5 = 120\n"
          ]
        }
      ],
      "source": [
        "def factorial(n):\n",
        "    if n == 0 or n == 1:\n",
        "        return 1\n",
        "    return n * factorial(n - 1)\n",
        "\n",
        "def compute_permutation(n, r):\n",
        "    if n < r:\n",
        "        return \"Invalid input: n must be greater than or equal to r.\"\n",
        "\n",
        "    # Step-by-step breakdown\n",
        "    print(f\"\\nCalculating {n}P{r}:\")\n",
        "    print(f\"Formula: nPr = n! / (n - r)!\")\n",
        "    print(f\"Step 1: n = {n}, r = {r}\")\n",
        "\n",
        "    n_fact = factorial(n)\n",
        "    print(f\"Step 2: Compute n! = {n}! = {n_fact}\")\n",
        "\n",
        "    diff_fact = factorial(n - r)\n",
        "    print(f\"Step 3: Compute (n - r)! = ({n} - {r})! = {(n - r)}! = {diff_fact}\")\n",
        "\n",
        "    nPr = n_fact // diff_fact\n",
        "    print(f\"Step 4: nPr = {n_fact} / {diff_fact} = {nPr}\")\n",
        "\n",
        "    return nPr\n",
        "\n",
        "# Main program\n",
        "if __name__ == \"__main__\":\n",
        "    print(\"Permutation Calculator (nPr)\")\n",
        "    try:\n",
        "        n = int(input(\"Enter total number of people/items (n): \"))\n",
        "        r = int(input(\"Enter number of places (r): \"))\n",
        "\n",
        "        result = compute_permutation(n, r)\n",
        "        print(f\"\\nResult: {n}P{r} = {result}\")\n",
        "\n",
        "    except ValueError:\n",
        "        print(\"Please enter valid integers for n and r.\")\n"
      ]
    },
    {
      "cell_type": "code",
      "source": [
        "import sys\n",
        "\n",
        "# Recursive factorial function with safe handling\n",
        "def recursive_factorial(n):\n",
        "    if n == 0 or n == 1:\n",
        "        return 1\n",
        "    return n * recursive_factorial(n - 1)\n",
        "\n",
        "# Iterative factorial for comparison\n",
        "def iterative_factorial(n):\n",
        "    result = 1\n",
        "    for i in range(2, n + 1):\n",
        "        result *= i\n",
        "    return result\n",
        "\n",
        "def main():\n",
        "    print(\"Exploring Recursion Limitations in Factorials\")\n",
        "    print(f\"Current recursion limit: {sys.getrecursionlimit()}\")\n",
        "\n",
        "    try:\n",
        "        n = int(input(\"\\nEnter a number to calculate factorial: \"))\n",
        "\n",
        "        # Validate input\n",
        "        if n < 0:\n",
        "            print(\"Error: Factorial is not defined for negative numbers.\")\n",
        "            return\n",
        "\n",
        "        if n > 998:\n",
        "            print(\"⚠ Warning: Recursive approach may hit recursion depth limit!\")\n",
        "\n",
        "        # Compute using recursion with safe handling\n",
        "        try:\n",
        "            print(\"\\nUsing Recursive Method...\")\n",
        "            rec_result = recursive_factorial(n)\n",
        "            print(f\"Recursive Result: {n}! = {rec_result}\")\n",
        "\n",
        "        except RecursionError:\n",
        "            print(f\"❌ RecursionError: Cannot compute {n}! recursively (exceeds recursion limit).\")\n",
        "\n",
        "        # Compute using iterative method\n",
        "        print(\"\\nUsing Iterative Method...\")\n",
        "        iter_result = iterative_factorial(n)\n",
        "        print(f\"Iterative Result: {n}! = {iter_result}\")\n",
        "\n",
        "    except ValueError:\n",
        "        print(\"Please enter a valid integer.\")\n",
        "\n",
        "if __name__ == \"__main__\":\n",
        "    main()\n"
      ],
      "metadata": {
        "colab": {
          "base_uri": "https://localhost:8080/"
        },
        "id": "ErwMnn3wWWn3",
        "outputId": "4bf43921-51a1-427e-df63-91219cfdf8a2"
      },
      "execution_count": 3,
      "outputs": [
        {
          "output_type": "stream",
          "name": "stdout",
          "text": [
            "Exploring Recursion Limitations in Factorials\n",
            "Current recursion limit: 1000\n",
            "\n",
            "Enter a number to calculate factorial: 10\n",
            "\n",
            "Using Recursive Method...\n",
            "Recursive Result: 10! = 3628800\n",
            "\n",
            "Using Iterative Method...\n",
            "Iterative Result: 10! = 3628800\n"
          ]
        }
      ]
    }
  ]
}